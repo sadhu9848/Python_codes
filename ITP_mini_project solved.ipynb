{
 "cells": [
  {
   "cell_type": "markdown",
   "metadata": {},
   "source": [
    "# <center>PGP Data Science Engineering</center>\n",
    "## <center>Introduction to Programming – Mini Project:</center>\n"
   ]
  },
  {
   "cell_type": "markdown",
   "metadata": {},
   "source": [
    "### Problem 1:\n",
    "\n",
    "1. Write a program to calculate area of shapes. Your program should be capable of calculating the area of a square, rectangle, triangle and a circle. The user should be presented with options to select the shape. Based on which shape is chosed by the user, the program should ask for the appropriate input and print the resulting area on the screen.\n",
    "\n",
    "When the program is run, the screen should display something like this:\n",
    "\n",
    "**Which shape would you like to calculate the area for? Please enter the option number-**<br>\n",
    "**1. Square**<br>\n",
    "**2. Rectangle**<br>\n",
    "**3. Triangle**<br>\n",
    "**4. Circle**<br>\n",
    "**Enter Option: _**\n",
    "\n",
    "Say the user enters the option 1.\n",
    "\n",
    "**Please enter the length of a side: _**\n",
    "\n",
    "If the user enters a value of 5. The output should be:\n",
    "\n",
    "**The area of the square is 25**\n",
    "\n",
    "This program should indicate that the input is invalid if the user enters a character instead of a number as input. For instance if the user enters a value of ‘a’ instead of 5 in the previous example the program should prompt:\n",
    "\n",
    "**Invalid input, please enter a number: _**\n"
   ]
  },
  {
   "cell_type": "code",
   "execution_count": 4,
   "metadata": {},
   "outputs": [
    {
     "name": "stdout",
     "output_type": "stream",
     "text": [
      "Which shape would you like to calculate the area for? Please enter the option number-\n",
      "1. Square\n",
      "2. Rectangle\n",
      "3. Triangle\n",
      "4. Circle\n",
      "Enter Option: 1\n",
      "Enter Length of side: 5\n",
      "Area of square:  25\n"
     ]
    }
   ],
   "source": [
    "print(\"Which shape would you like to calculate the area for? Please enter the option number-\" '\\n'\"1. Square\" '\\n' \"2. Rectangle\"'\\n' '3. Triangle' '\\n' \"4. Circle\")\n",
    "choice=int(input(\"Enter Option: \"))\n",
    "if choice==1 :\n",
    "    \n",
    "    l_square=int(input(\"Enter Length of side: \"))\n",
    "    \n",
    "    print('Area of square: ',l_square**2)\n",
    "    \n",
    "elif choice==2:\n",
    "        l_rect=int(input(\"Enter Length of rectangle: \"))\n",
    "        b_rect=int(input(\"Enter Breadth of rectangle: \"))\n",
    "        print(\"Area of Rectangle: \",l_rect*b_rect)\n",
    "elif choice==3:\n",
    "            h_tri=int(input(\"Enter height of triangle: \"))\n",
    "            b_tri=int(input(\"Enter base of triangle: \"))\n",
    "            print(\"Area of triangle: \",0.5*h_tri*b_tri)\n",
    "elif choice==4:\n",
    "                r_circle=float(input(\"Enter radius of circle: \"))\n",
    "                area_circle=22/7*r_circle*r_circle\n",
    "                print(\"Area of circle:  \",area_circle)\n",
    "else:\n",
    "                    print('Invalid input, please enter a number: ')"
   ]
  },
  {
   "cell_type": "markdown",
   "metadata": {},
   "source": [
    "### Problem 2:\n",
    "\n",
    "Create and encrypter in python based on the ceaser cipher. It is a substitution cipher where each character of the original text is shifted a certain number characters in the alphabet. Write a function that would require 2 arguments – the input text to be encrypted and a key. For eg: Given the input text ‘hello’ and the key 3, the resulting encryted text would be ‘khoor’. Here you can see that every character in the string hello is shifted by 3 characters. ‘h’ has shifted to ‘k’, ‘e’ has shifted to ‘h’ and so on. If a key of 5 were used, the resulting string would be ‘mjqqt’. This function should be capable of ignoring any characters which are not alphabets. The character ‘z’ entered b\n",
    "y the user for a key of 3 would result in ‘c’.\n",
    "\n",
    "Usage:<br>\n",
    "**encrypt(‘hello world!’, 3)**<br>\n",
    "**‘khoor zruog!’**\n",
    "\n",
    "Similarly create decrypter which can decode the encryted text when provided the input text and key\n",
    "\n",
    "Usage:<br>\n",
    "**decrypt(‘khoor zruog!’, 3)**<br>\n",
    "**‘hello world!’**\n",
    "\n",
    "For the sake of simplicity you can assume that input solely consists of lowercase alphabets, spaces and punctuation symbols. Numbers in the input text would also be ignored similar to symbols."
   ]
  },
  {
   "cell_type": "code",
   "execution_count": 10,
   "metadata": {},
   "outputs": [
    {
     "name": "stdout",
     "output_type": "stream",
     "text": [
      "Choose one of following:\n",
      "1)Encrypt\n",
      "2)Decrypt\n",
      "2\n",
      "Enter string you want to decrypt: khoor\n",
      "Enter key to decrypt on: 3\n",
      "hello"
     ]
    }
   ],
   "source": [
    "def encrypt(a,key):\n",
    "    for i in a:\n",
    "        ch_en=chr(ord(i)+key)\n",
    "        print(ch_en,end='')\n",
    "    return str(ch_en)\n",
    "    \n",
    "def decrypt(b,key2):\n",
    "    for i in b:\n",
    "        ch_de=chr(ord(i)-key2)\n",
    "        print(ch_de,end='')  \n",
    "    return str(ch_de)\n",
    "choice=int(input(\"Choose one of following:\" '\\n' \"1)Encrypt\"'\\n''2)Decrypt''\\n'))\n",
    "if(choice==1) :\n",
    "        str_encrypt=input(\"Enter string you want to encrypt: \")\n",
    "        key_encrypt=int(input(\"Enter key to encrypt on: \"))\n",
    "        encrypt(str_encrypt,key_encrypt)\n",
    "else:\n",
    "    str_decrypt=input(\"Enter string you want to decrypt: \")\n",
    "    key_decrypt=int(input(\"Enter key to decrypt on: \"))\n",
    "    decrypt(str_decrypt,key_decrypt)\n",
    "    "
   ]
  },
  {
   "cell_type": "markdown",
   "metadata": {},
   "source": [
    "# ---The End---"
   ]
  }
 ],
 "metadata": {
  "kernelspec": {
   "display_name": "Python 3",
   "language": "python",
   "name": "python3"
  },
  "language_info": {
   "codemirror_mode": {
    "name": "ipython",
    "version": 3
   },
   "file_extension": ".py",
   "mimetype": "text/x-python",
   "name": "python",
   "nbconvert_exporter": "python",
   "pygments_lexer": "ipython3",
   "version": "3.8.3"
  }
 },
 "nbformat": 4,
 "nbformat_minor": 2
}
